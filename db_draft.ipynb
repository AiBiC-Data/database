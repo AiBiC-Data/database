{
  "nbformat": 4,
  "nbformat_minor": 0,
  "metadata": {
    "colab": {
      "provenance": [],
      "authorship_tag": "ABX9TyNca8smXfg3EKnSxi2GIpOh",
      "include_colab_link": true
    },
    "kernelspec": {
      "name": "python3",
      "display_name": "Python 3"
    },
    "language_info": {
      "name": "python"
    }
  },
  "cells": [
    {
      "cell_type": "markdown",
      "metadata": {
        "id": "view-in-github",
        "colab_type": "text"
      },
      "source": [
        "<a href=\"https://colab.research.google.com/github/AiBiC-Data/database/blob/main/db_draft.ipynb\" target=\"_parent\"><img src=\"https://colab.research.google.com/assets/colab-badge.svg\" alt=\"Open In Colab\"/></a>"
      ]
    },
    {
      "cell_type": "code",
      "execution_count": null,
      "metadata": {
        "id": "wxLJSoosTL1w"
      },
      "outputs": [],
      "source": [
        "from sqlalchemy import create_engine\n",
        "my_conn = create_engine('sqlite:////content/draft.db')         # create db"
      ]
    },
    {
      "cell_type": "code",
      "source": [
        "r_set=my_conn.execute('''           \n",
        "CREATE TABLE `user` (\n",
        "\t`id`\tINTEGER\tNOT NULL PRIMARY KEY AUTOINCREMENT,\n",
        "\t`user_name`\tVARCHAR(20)\tNOT NULL,\n",
        "\t`user_address`\tVARCHAR(200)\tNOT NULL,\n",
        "\t`user_telnum`\tVARCHAR(20) NOT NULL,\n",
        "\t`enroll_date`\tDATE NOT\tNULL\n",
        ");\n",
        " ''')\n"
      ],
      "metadata": {
        "id": "yix7YQ1yTj5q"
      },
      "execution_count": null,
      "outputs": []
    },
    {
      "cell_type": "code",
      "source": [
        "# insert data to table use 'insert into values;' syntax\n",
        "my_conn.execute('''\n",
        "INSERT INTO `user`\n",
        "( `user_name`, `user_address`, `user_telnum`, `enroll_date`) VALUES\n",
        "('kimminsu', 'Incheon Michuholgu Juandong 1331-31', '010-1111-1234', '2022-10-01'),\n",
        "('leeyonghwan', 'Gyeonggi Namyangjusi jingunyeup jingunohnamro 100', '010-1239-2859', '2022-10-03'),\n",
        "('kimminsung', 'Gyeonggi Suwaonsi Yeongtonggu Maeyoungro 310-12', '010-8888-2938', '2022-10-10'),\n",
        "('jinminjung', 'Gyeonggi Gunposi hansero 66-12', '010-3333-2938', '2022-10-16'),\n",
        "('limsohyeon', 'Gyeonggi Ansansi sangrokgu bonohro 145', '010-2222-8473', '2022-10-20'),\n",
        "('leechewon', 'Gyeonggi Suwonsi Jangangu jowonro 16', '010-0000-8394', '2022-10-22'),\n",
        "('songeunho', 'Gyeonggi Yichoensi jeungsinro 25-69', '010-4893-4948', '2022-10-23'),\n",
        "('leesehyun', 'Gyeonggi Ansungsi Ahyangro4ro 46', '010-7777-3847', '2022-10-23'),\n",
        "('leesujin', 'Gyeonggi Pyeongtaeksi Jungang1ro 115', '010-4333-4943', '2022-10-29'),\n",
        "('kimsungwoo', 'Daejun Seogu Munyeoro 16', '010-3222-1112', '2022-10-29'),\n",
        "('hwangsubin', 'Daejun Seogu Dunsanro 15', '010-2222-4847', '2022-11-01'),\n",
        "('numeunchae', 'Daejun Yeosunggu gajungbukro 68', '010-9999-4839', '2022-11-02'),\n",
        "('shinjeeeun', 'Jeunbuk Jeonjusi Duckjingu Gubukbawoo3gil 15', '', '2022-11-04'),\n",
        "('kimsujung', 'Jeunbuk Jeonjusi Duckjingu Ohgongro 100', '010-2938-3958', '2022-11-06'),\n",
        "('hwangchanwon', 'Gwangju seogu hwawoonro 193-25', '010-9992-3942', '2022-11-08'),\n",
        "('jangbumjun', 'Gwangju seogu woonchunro 41', '010-0048-2930', '2022-11-09'),\n",
        "('parkkyungjun', 'Gyeungnam jinjusi chojangro 14-27', '010-2322-9930', '2022-11-11'),\n",
        "('chojaewon', 'Gyeungnam jinjusi solbalro 80-18', '010-3230-3333', '2022-11-15'),\n",
        "('parkyeonjae', 'Busan Dongragu Myungyunro 170', '010-3234-8873', '2022-11-18'),\n",
        "('kangsumin', 'Busan Yeonjaegu gobunro 200', '010-2223-5805', '2022-11-20')\n",
        "''')"
      ],
      "metadata": {
        "colab": {
          "base_uri": "https://localhost:8080/"
        },
        "id": "xfv9kT6DWOvB",
        "outputId": "2ffcc651-b97a-407a-dfa5-789945c2db64"
      },
      "execution_count": null,
      "outputs": [
        {
          "output_type": "execute_result",
          "data": {
            "text/plain": [
              "<sqlalchemy.engine.cursor.LegacyCursorResult at 0x7fe09dc315b0>"
            ]
          },
          "metadata": {},
          "execution_count": 3
        }
      ]
    },
    {
      "cell_type": "code",
      "source": [
        "r_set=my_conn.execute('''           \n",
        "CREATE TABLE `customer` (\n",
        "\t`id`\tINTEGER\tNOT NULL PRIMARY KEY AUTOINCREMENT,\n",
        "\t`user_id`\tINT\tNOT NULL,\n",
        "  FOREIGN KEY (`user_id`)\n",
        "  REFERENCES `user` (`id`)\n",
        ");\n",
        " ''')"
      ],
      "metadata": {
        "id": "dTriVgRBTj73"
      },
      "execution_count": null,
      "outputs": []
    },
    {
      "cell_type": "code",
      "source": [
        "my_conn.execute('''\n",
        "INSERT INTO `customer`\n",
        "(`user_id`) VALUES\n",
        "(1),\n",
        "(2),\n",
        "(5),\n",
        "(6),\n",
        "(8),\n",
        "(10),\n",
        "(11),\n",
        "(12),\n",
        "(13),\n",
        "(15),\n",
        "(17)\n",
        "''')"
      ],
      "metadata": {
        "colab": {
          "base_uri": "https://localhost:8080/"
        },
        "id": "u7P7X5evittA",
        "outputId": "227a11bd-58c8-4a4a-ae77-25be34e0d0b7"
      },
      "execution_count": null,
      "outputs": [
        {
          "output_type": "execute_result",
          "data": {
            "text/plain": [
              "<sqlalchemy.engine.cursor.LegacyCursorResult at 0x7fe0996b7190>"
            ]
          },
          "metadata": {},
          "execution_count": 5
        }
      ]
    },
    {
      "cell_type": "code",
      "source": [
        "r_set=my_conn.execute('''           \n",
        "CREATE TABLE `seller` (\n",
        "\t`id`\tINTEGER\tNOT NULL PRIMARY KEY AUTOINCREMENT,\n",
        "\t`user_id`\tINT\tNOT NULL,\n",
        "  FOREIGN KEY (`user_id`)\n",
        "  REFERENCES `user` (`id`)\n",
        ");\n",
        " ''')"
      ],
      "metadata": {
        "id": "W5LCHiYDTj9-"
      },
      "execution_count": null,
      "outputs": []
    },
    {
      "cell_type": "code",
      "source": [
        "# insert data to table use 'insert into values;' syntax\n",
        "my_conn.execute('''\n",
        "INSERT INTO `seller`\n",
        "(`user_id`) VALUES\n",
        "(1),\n",
        "(2),\n",
        "(3),\n",
        "(7),\n",
        "(9),\n",
        "(10),\n",
        "(13),\n",
        "(14),\n",
        "(16),\n",
        "(18),\n",
        "(19)\n",
        "''')"
      ],
      "metadata": {
        "colab": {
          "base_uri": "https://localhost:8080/"
        },
        "id": "HrIWvB1JiwD4",
        "outputId": "3ad02509-2cbd-4054-c707-64031fa224c6"
      },
      "execution_count": null,
      "outputs": [
        {
          "output_type": "execute_result",
          "data": {
            "text/plain": [
              "<sqlalchemy.engine.cursor.LegacyCursorResult at 0x7fe0996b7c10>"
            ]
          },
          "metadata": {},
          "execution_count": 7
        }
      ]
    },
    {
      "cell_type": "code",
      "source": [
        "import sqlite3\n",
        "from datetime import datetime\n",
        "now = datetime.now()\n",
        "\n",
        "def create_user(name, address, telnum): \n",
        "  date = str(now.date())\n",
        "  my_conn.execute(\"INSERT INTO `user` (`user_name`, `user_address`, `user_telnum`, `enroll_date`) VALUES ( '\"\n",
        "  + name +\"', '\"+ address+\"', '\" + telnum +\"', '\"+ date +\"' )\"  \n",
        "  )\n",
        "\n",
        "print(\"Do you want to create User? (answer yes or no): \")\n",
        "ans = input()\n",
        "if ans =='yes':\n",
        "  print(\"Put username, address, telephone number:\")\n",
        "  user_name, user_add, user_tel= input().split()\n",
        "  create_user(user_name, user_add, user_tel)"
      ],
      "metadata": {
        "colab": {
          "base_uri": "https://localhost:8080/"
        },
        "id": "FU3Dgv3ugUNC",
        "outputId": "e5a7aafd-17b5-4aac-d214-9fc9e16de6c3"
      },
      "execution_count": null,
      "outputs": [
        {
          "name": "stdout",
          "output_type": "stream",
          "text": [
            "Do you want to create User? (answer yes or no): \n",
            "no\n"
          ]
        }
      ]
    },
    {
      "cell_type": "code",
      "source": [
        "def view_all_user():\n",
        "  r_set = my_conn.execute(\"\"\"\n",
        "  SELECT A.id, A.user_name, B.seller_id, C.customer_id FROM user A \n",
        "  LEFT JOIN (SELECT id as seller_id, user_id FROM seller) B\n",
        "  ON A.id = B.user_id\n",
        "  LEFT JOIN (SELECT id as customer_id, user_id FROM customer) C \n",
        "  ON A.id = C.user_id;\n",
        "  \"\"\")\n",
        "  for row in r_set:\n",
        "     print(row) \n",
        "view_all_user()"
      ],
      "metadata": {
        "colab": {
          "base_uri": "https://localhost:8080/"
        },
        "id": "mKXRwfpr8_zW",
        "outputId": "5705551a-0b46-4676-d543-73407322922a"
      },
      "execution_count": null,
      "outputs": [
        {
          "output_type": "stream",
          "name": "stdout",
          "text": [
            "(1, 'kimminsu', 1, 1)\n",
            "(2, 'leeyonghwan', 2, 2)\n",
            "(3, 'kimminsung', 3, None)\n",
            "(4, 'jinminjung', None, None)\n",
            "(5, 'limsohyeon', None, 3)\n",
            "(6, 'leechewon', None, 4)\n",
            "(7, 'songeunho', 4, None)\n",
            "(8, 'leesehyun', None, 5)\n",
            "(9, 'leesujin', 5, None)\n",
            "(10, 'kimsungwoo', 6, 6)\n",
            "(11, 'hwangsubin', None, 7)\n",
            "(12, 'numeunchae', None, 8)\n",
            "(13, 'shinjeeeun', 7, 9)\n",
            "(14, 'kimsujung', 8, None)\n",
            "(15, 'hwangchanwon', None, 10)\n",
            "(16, 'jangbumjun', 9, None)\n",
            "(17, 'parkkyungjun', None, 11)\n",
            "(18, 'chojaewon', 10, None)\n",
            "(19, 'parkyeonjae', 11, None)\n",
            "(20, 'kangsumin', None, None)\n"
          ]
        }
      ]
    },
    {
      "cell_type": "code",
      "source": [
        "# customer 등록 using user_id\n",
        "def create_customer(user_id):\n",
        "  my_conn.execute('INSERT INTO customer (user_id) VALUES (?)',(user_id,))\n",
        "ans = input()\n",
        "create_customer(ans)"
      ],
      "metadata": {
        "colab": {
          "base_uri": "https://localhost:8080/"
        },
        "id": "jtnAWoq9mtOZ",
        "outputId": "d6eaa687-17a6-4397-8978-e54a1cb4dff0"
      },
      "execution_count": null,
      "outputs": [
        {
          "name": "stdout",
          "output_type": "stream",
          "text": [
            "12\n"
          ]
        }
      ]
    },
    {
      "cell_type": "code",
      "source": [
        "# seller 등록 using user_id\n",
        "def create_seller(user_id):\n",
        "  my_conn.execute('INSERT INTO seller (user_id) VALUES (?)',(user_id,))\n",
        "ans = input()\n",
        "create_seller(ans)"
      ],
      "metadata": {
        "colab": {
          "base_uri": "https://localhost:8080/"
        },
        "id": "AEap-TYKoyvU",
        "outputId": "a8293ad6-a19c-4c68-8057-4d962dec2c79"
      },
      "execution_count": null,
      "outputs": [
        {
          "name": "stdout",
          "output_type": "stream",
          "text": [
            "17\n"
          ]
        }
      ]
    }
  ]
}