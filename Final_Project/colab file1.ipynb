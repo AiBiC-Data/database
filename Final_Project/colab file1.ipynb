{
  "nbformat": 4,
  "nbformat_minor": 0,
  "metadata": {
    "colab": {
      "provenance": []
    },
    "kernelspec": {
      "name": "python3",
      "display_name": "Python 3"
    },
    "language_info": {
      "name": "python"
    }
  },
  "cells": [
    {
      "cell_type": "markdown",
      "source": [
        "----유저----\n",
        "모든 유저는 구매자 또는 판매자가 될 수 있음.\n",
        "모든 유저의 행동(구매, 판매)는 로그로 남겨놓음.\n",
        "1. 유저등록\n",
        "2. 모든 유저 조회(customer_id, seller_id 같이 조회할 수 있게) \n",
        "\n",
        "----아이템 검색----\n",
        "추후 다양한 필터(제조사, 제품군별 세부스펙, 가격 범위 등)를 적용하여 소비자 편의를 향상시킬 수 있음.\n",
        "\n",
        "가격 오름차순, 내림차순 조회 가능하도록\n",
        "1. 아이템 등록\n",
        "2. 아이템 조회(All, by Category_id, by seller_id)\n",
        "\n",
        "----주문----\n",
        "1. 배송정보, 지불방식(결제방식, 할인 적용 판단), 주문상품리스트 입력받아 주문한다.\n",
        "2. 주문상품리스트 바탕으로 order_item테이블에 element생성\n",
        "3. 주문취소(여유 있으면 추가)\n",
        "\n",
        "4. 주문조회(전체, by customer_id)"
      ],
      "metadata": {
        "id": "uRNuBdgA2_cS"
      }
    },
    {
      "cell_type": "markdown",
      "source": [
        "ERD 링크 : https://www.erdcloud.com/d/xpuTkFPnALWXkzgLY"
      ],
      "metadata": {
        "id": "Rt7Rez3z6XmD"
      }
    },
    {
      "cell_type": "code",
      "source": [
        "import sqlite3 as sl\n",
        "import pandas as pd\n",
        "con = sl.connect('db ver2.db')\n",
        "cur = con.cursor()"
      ],
      "metadata": {
        "id": "YnEa_LID2-np"
      },
      "execution_count": null,
      "outputs": []
    },
    {
      "cell_type": "code",
      "source": [
        "# pandas로 결과보기\n",
        "def showResultByPandas(res):\n",
        "  rows = res\n",
        "\n",
        "  cols = [column[0] for column in cur.description]\n",
        "\n",
        "  data_df = pd.DataFrame.from_records(data=rows, columns=cols)\n",
        "\n",
        "  return data_df"
      ],
      "metadata": {
        "id": "jylnN9KvprmK"
      },
      "execution_count": null,
      "outputs": []
    },
    {
      "cell_type": "markdown",
      "source": [
        "--------------회원 관련-------------------"
      ],
      "metadata": {
        "id": "dM5U65rj4kTo"
      }
    },
    {
      "cell_type": "code",
      "source": [
        "import sqlite3\n",
        "from datetime import datetime\n",
        "now = datetime.now()\n",
        "\n",
        "def create_user(name, address, telnum, create_by = 'admin', change_by='admin'):  #회원 등록 \n",
        "  date = str(now.date())\n",
        "  my_conn.execute(\"INSERT INTO `user` (`user_name`, `user_address`, `user_telnum`, `enrolld_date`, `create_on`, `change_on`) VALUES ( '\"\n",
        "  + name +\"', '\"+ address+\"', '\" + telnum +\"', '\"+ date + \"', '\" + date +\"', '\" + date +\"' )\"  \n",
        "  )\n",
        "\n",
        "print(\"Do you want to create User? (answer yes or no): \")\n",
        "ans = input()\n",
        "if ans =='yes':\n",
        "  print(\"Put username, address, telephone number:\")\n",
        "  user_name, user_add, user_tel= input().split()\n",
        "  create_user(user_name, user_add, user_tel)"
      ],
      "metadata": {
        "id": "jBwgCJX-cKRM"
      },
      "execution_count": null,
      "outputs": []
    },
    {
      "cell_type": "code",
      "source": [
        "# 권호님이 만든 회원추가메서드 수정 했습니다.\n",
        "\n",
        "from datetime import datetime\n",
        "now = datetime.now()\n",
        "\n",
        "def create_user(name, address, telnum):  #회원 등록 \n",
        "  date = str(now.date())\n",
        "  cur.execute(\"INSERT INTO `user` (`name`, `address`, `telnum`, `enroll_date`) VALUES (?, ?, ?, ?)\", (name, address, telnum, now)\n",
        "  )\n",
        "\n",
        "\n",
        "print(\"Do you want to create User? (answer yes or no): \")\n",
        "ans = input()\n",
        "if ans =='yes':\n",
        "  print(\"Put username, address, telephone number:\")\n",
        "  user_name, user_add, user_tel= input().split(',')\n",
        "  create_user(user_name, user_add, user_tel)"
      ],
      "metadata": {
        "id": "zs2YDWqxjRlH"
      },
      "execution_count": null,
      "outputs": []
    },
    {
      "cell_type": "code",
      "source": [
        "def view_all_user():         #모든 유저 조회 /w custoer_id, seller_id\n",
        "  r_set = my_conn.execute(\"\"\"\n",
        "  SELECT A.id, A.user_name, B.seller_id, C.customer_id FROM user A \n",
        "  LEFT JOIN (SELECT id as seller_id, user_id FROM seller) B\n",
        "  ON A.id = B.user_id\n",
        "  LEFT JOIN (SELECT id as customer_id, user_id FROM customer) C \n",
        "  ON A.id = C.user_id;\n",
        "  \"\"\")\n",
        "  for row in r_set:\n",
        "     print(row) \n",
        "view_all_user()"
      ],
      "metadata": {
        "id": "luydk4fs5E0U"
      },
      "execution_count": null,
      "outputs": []
    },
    {
      "cell_type": "code",
      "source": [
        "# customer 등록 using user_id\n",
        "def create_customer(user_id):\n",
        "  cur.execute('INSERT INTO customer (user_id) VALUES (?)',(user_id,))"
      ],
      "metadata": {
        "id": "Vs-DBMKqjMg2"
      },
      "execution_count": null,
      "outputs": []
    },
    {
      "cell_type": "code",
      "source": [
        "# seller 등록 using user_id\n",
        "def create_seller(user_id):\n",
        "  cur.execute('INSERT INTO seller (user_id) VALUES (?)',(user_id,))"
      ],
      "metadata": {
        "id": "yADGjf4pjeLO"
      },
      "execution_count": null,
      "outputs": []
    },
    {
      "cell_type": "markdown",
      "source": [
        "--------------회원 관련-------------------"
      ],
      "metadata": {
        "id": "kIBGfgUU4nGb"
      }
    },
    {
      "cell_type": "markdown",
      "source": [
        "--------------주문 관련-------------------"
      ],
      "metadata": {
        "id": "OyjwQUHE4tmI"
      }
    },
    {
      "cell_type": "code",
      "source": [
        "from datetime import datetime\n",
        "from sqlalchemy.exc import SQLAlchemyError\n",
        "now = str(datetime.now())\n",
        "\n",
        "\n",
        "def make_order(customerid, paymentid,city_name,street_name,zipcode_number): \n",
        "\n",
        "  q=\"SELECT DISTINCT(id)  FROM delivery\"\n",
        "  r_set=my_conn.execute(q)\n",
        "  data=r_set.fetchall()\n",
        "  delivery_id=str(len(data)+1)\n",
        "  is_delete=str(0)\n",
        "  my_conn.execute(\"INSERT INTO `order` (`customer_id`, `delivery_id`, `payment_id`, `create_on`, `change_on`,`is_delete`) VALUES ( '\"\n",
        "  + customerid +\"', '\"+ delivery_id+\"', '\" + paymentid +\"', '\" + now +\"', '\" + now +\"', '\" + is_delete +\"' )\"\n",
        ")\n",
        "  q=\"SELECT DISTINCT(id)  FROM 'order'\"\n",
        "  r_set=my_conn.execute(q)\n",
        "  data=r_set.fetchall()\n",
        "  order_id=str(len(data))\n",
        "\n",
        "  status=\"before delivery\"\n",
        "  my_conn.execute(\"INSERT INTO `delivery` (`status`, `city`, `street`, `zipcode`,`create_on`, `change_on`) VALUES ( '\"\n",
        "  + status +\"', '\"+ city_name+\"', '\" + street_name +\"', '\" + zipcode_number +\"', '\" + now +\"', '\" + now +\"' )\"\n",
        ")\n",
        "  print(\"Enter the number of products you want.\")\n",
        "  number=int(input())\n",
        "  for i in range(number):\n",
        "    print(\"Enter the ID of the product you want.\")\n",
        "    item_id=str(input())\n",
        "    my_conn.execute(\"INSERT INTO `orderitem` (`order_id`, `item_id`,`create_on`, `change_on`,`is_delete`) VALUES ( '\"\n",
        "    + order_id +\"', '\"+ item_id+\"','\" + now +\"', '\" + now +\"', '\" + is_delete +\"' )\"\n",
        "  )\n",
        "\n",
        "print(\"If you want to make order,put your customer id, payment method(1: credit Card, 2: KaKao Pay, 3: Paypal, 4: Account Transfer)and address information (city, street, zipcode).\")\n",
        "customer_id, payment_id,city,street,zipcode= input().split()\n",
        "make_order(customer_id, payment_id,city,street,zipcode)"
      ],
      "metadata": {
        "id": "82pLSLQH5F00"
      },
      "execution_count": null,
      "outputs": []
    },
    {
      "cell_type": "code",
      "source": [
        "#makeOrder\n",
        "# item_list :: [[item0_id, item0_count], [item1_id, item1_count], ... ]\n",
        "def makeOrder(customer_id, item_list, payment_method, discount, city, street, zipcode):\n",
        "  # create payment data\n",
        "  q = 'insert into payment (payment,discount) values (?,?)'\n",
        "  cur.execute(q,(payment_method, discount))\n",
        "  payment_id = cur.lastrowid\n",
        "  \n",
        "  # create delivery data\n",
        "  q = 'insert into delivery (status, city, street, zipcode) values (?,?,?,?)'\n",
        "  cur.execute(q, ('preparing', city, street, zipcode))\n",
        "  delivery_id = cur.lastrowid\n",
        "\n",
        "  # create order\n",
        "  q = 'insert into orders (customer_id, delivery_id, payment_id, is_delete) values (?,?,?,?)'\n",
        "  cur.execute(q, (customer_id, delivery_id, payment_id, 0))\n",
        "  order_id = cur.lastrowid\n",
        "\n",
        "  # create order item           // item_list :: [[item0_id, item0_count], [item1_id, item1_count], ... ]\n",
        "  for item in item_list:\n",
        "    item_id = item[0]\n",
        "    item_count = item[1]\n",
        "    \n",
        "    # item_id로 item테이블에서 데이터 찾기 (가격, 재고량)\n",
        "    cur.execute('select distinct price, stock from item where id = ?', (item_id,))\n",
        "    res = cur.fetchone()\n",
        "    item_price = res[0]\n",
        "    item_stock = res[1]\n",
        "\n",
        "    # order_item주문할 상품 저장.    price(결제금액) = 상품가격 - 할인\n",
        "    q = 'insert into order_item (order_id, item_id, count, price) values (?,?,?,?)'\n",
        "    cur.execute(q, (order_id, item_id, item_count, item_price*item_count - discount))\n",
        "\n",
        "    # 주문 후 재고량 변경 쿼리\n",
        "    q = 'UPDATE item SET stock = ? where id = ?'\n",
        "    cur.execute(q,(item_stock - item_count, item_id))\n",
        "  "
      ],
      "metadata": {
        "id": "eo41e9KRi41U"
      },
      "execution_count": null,
      "outputs": []
    },
    {
      "cell_type": "code",
      "source": [
        "def findAllOrders(con):\n",
        "  #주문번호, 고객번호, 상품 이름, 상품 갯수, 총 가격, 배송 정보  모두 조회 후 반환\n",
        "  cur.execute('''SELECT o.id , o.customer_id, i.name, oi.count, oi.price, d.status  \n",
        "  FROM orders o, delivery d, payment p, order_item oi, item i \n",
        "  where d.id = o.delivery_id and p.id = o.payment_id and oi.order_id = o.id and oi.item_id = i.id\n",
        "  ''')\n",
        "  res = cur.fetchall()\n",
        "  return res"
      ],
      "metadata": {
        "id": "uYw7VTHjCWm6"
      },
      "execution_count": null,
      "outputs": []
    },
    {
      "cell_type": "code",
      "source": [
        "def findOrderByCustomerId(customer_id):\n",
        "  # 특정 고객(customer_id)이 주문한 상품 모두 조회\n",
        "  cur.execute('''SELECT o.id , o.customer_id, i.name, oi.count, oi.price, d.status  \n",
        "  FROM orders o, delivery d, payment p, order_item oi, item i \n",
        "  where d.id = o.delivery_id and p.id = o.payment_id and oi.order_id = o.id and oi.item_id = i.id and o.customer_id = :id\n",
        "  ''', id = customer_id)\n",
        "  res = cur.fetchall()\n",
        "  return res"
      ],
      "metadata": {
        "id": "hqCuIFbXn4Ta"
      },
      "execution_count": null,
      "outputs": []
    },
    {
      "cell_type": "markdown",
      "source": [
        "--------------주문 관련-------------------"
      ],
      "metadata": {
        "id": "AqyQq0j841_i"
      }
    },
    {
      "cell_type": "markdown",
      "source": [
        "--------------상품 관련-------------------"
      ],
      "metadata": {
        "id": "DC88v0we43WT"
      }
    },
    {
      "cell_type": "code",
      "source": [
        "# add item method\n",
        "def addItem(con, category_id, item_name, manufacturing,item_price, item_stock, seller_id):\n",
        "  q = 'insert into item (category_id, name, price, stock, seller_id) values (?,?,?,?,?)'\n",
        "  cur.execute(q,(category_id, item_name, item_price, item_stock, seller_id))\n",
        "  item_id = cur.lastrowid\n",
        "  if category_id == 1:\n",
        "    q = 'insert into cpu (manufacturing, item_id) value s (?,?)'\n",
        "    cur.execute(q,(manufacturing, item_id))\n",
        "  elif category_id ==2: \n",
        "    q = 'insert into gpu (manufacturing, item_id) values (?,?)'\n",
        "    cur.execute(q,(manufacturing, item_id))\n",
        "  elif category_id ==3:\n",
        "    q = 'insert into memory (manufacturing, item_id) values (?,?)'\n",
        "    cur.execute(q,(manufacturing, item_id))\n",
        "  elif category_id ==4:\n",
        "    q = 'insert into power (manufacturing, item_id) values (?,?)'\n",
        "    cur.execute(q,(manufacturing, item_id)) "
      ],
      "metadata": {
        "id": "6agV5Qjj5GxE"
      },
      "execution_count": null,
      "outputs": []
    },
    {
      "cell_type": "code",
      "source": [
        "# 모든 아이템 조회\n",
        "def findAllItem():\n",
        "  res = cur.execute('select * from item').fetchall()\n",
        "  return res"
      ],
      "metadata": {
        "id": "kyvjkvCAbfSR"
      },
      "execution_count": null,
      "outputs": []
    },
    {
      "cell_type": "code",
      "source": [
        "# 특정 카테고리의 상품 검색 오름차순 정렬\n",
        "def findItemByItemCategory(category_id):\n",
        "  if category_id == 1:\n",
        "    q = 'select i.name, c.manufacturing, i.price, i.stock from item i, cpu c where i.id = c.item_id order by i.price asc'\n",
        "    res = cur.execute(q).fetchall()\n",
        "    return res\n",
        "  elif category_id ==2:\n",
        "    q = 'select i.name, g.manufacturing, i.price, i.stock from item i, gpu g where i.id = g.item_id order by i.price asc'\n",
        "    res = cur.execute(q).fetchall()\n",
        "    return res\n",
        "  elif category_id ==3:\n",
        "    q = 'select i.name, p.manufacturing, i.price, i.stock from item i, power p where i.id = p.item_id order by i.price asc'\n",
        "    res = cur.execute(q).fetchall()\n",
        "    return res\n",
        "  elif category_id ==4:\n",
        "    q = 'select i.name, m.manufacturing, i.price, i.stock from item i, memory m where i.id = m.item_id order by i.price asc'\n",
        "    res = cur.execute(q).fetchall()\n",
        "    return res"
      ],
      "metadata": {
        "id": "BDFxRgww58_k"
      },
      "execution_count": null,
      "outputs": []
    },
    {
      "cell_type": "markdown",
      "source": [
        "--------------상품 관련-------------------"
      ],
      "metadata": {
        "id": "N0wekAw_45fR"
      }
    },
    {
      "cell_type": "code",
      "source": [
        "#sample data for component tables\n",
        "from sqlalchemy import create_engine\n",
        "my_conn = create_engine(\"sqlite:////content/db ver3.db\")\n",
        "\n",
        "\n",
        "r_set = my_conn.execute('''INSERT INTO cpu (item_id, model_name, manufacturing, is_delete, clock ) VALUES\n",
        "(1, 'RYZEN 5600', 'AMD', 0,3),\n",
        "(2, 'RYZEN 5600X', 'AMD',0, 3),\n",
        "(3, 'RYZEN 5800X', 'AMD',0, 4),\n",
        "(4, 'RYZEN 5900X', 'AMD',0, 2),\n",
        "(5, 'RYZEN 7600X', 'AMD',0, 3),\n",
        "(6, 'RYZEN 5950X', 'AMD',0, 5),\n",
        "(7, 'RYZEN 3800X', 'AMD',0, 5),\n",
        "(8, 'RYZEN 3200G', 'AMD',0, 6),\n",
        "(9, 'RYZEN 3700X', 'AMD',0, 7),\n",
        "\n",
        "(10, 'i7-12700F', 'INTEL', 0,3),\n",
        "(11, 'i9-12900K', 'INTEL', 0,4),\n",
        "(12, 'i9-12900KS', 'INTEL',0, 4),\n",
        "(13, 'i9-10900X', 'INTEL',0, 5),\n",
        "(14, 'i9-9900K', 'INTEL', 0,6);\n",
        "''')\n",
        "\n",
        "r_set = my_conn.execute('''INSERT INTO gpu (item_id, model_name, chipset, manufacturing,  is_delete ) VALUES\n",
        "(1, 'RTX 4090 O24G GAMING OC D6X 24GB', 'RTX 4090', 'ASUS', 0),\n",
        "(2, 'RTX 4080 GAMEROCK OC D6X 16GB', 'RTX 4080', 'EMTEK', 0),\n",
        "(3, 'RTX 3060 Gaming OC V2 D6 12GB', 'RTX 3060', 'GIGABYTE', 0),\n",
        "(4, 'ASUS TUF Gaming GEFORCE RTX 3070 Ti O8G OC D6X 8GB', 'RTX 3070 Ti', 'ASUS', 0),\n",
        "(5, 'GALAX GEFORCE RTX 3060 Ti D6 8GB LHR', 'RTX 3060 Ti', 'GALAX',0),\n",
        "(6, 'ASUS TUF Gaming GEFORCE GTX 1660 SUPER 6G D6 6GB', 'GTX 1660 SUPER', 'ASUS',  0),\n",
        "(7, 'GALAX GEFORCE GTX 1660 Ti BLACK D D6 6GB', 'GTX 1660 Ti', 'GALAX',  0),\n",
        "(8, 'GIGABYTE GEFORCE GTX 1660 UDV OC D5 6GB', 'GTX 1660', 'GIGABYTE', 0), \n",
        "(9, 'ASUS DUAL GEFORCE RTX 2070 SUPER D6 8GB', 'RTX 2070 SUPER', 'ASUS',  0),\n",
        "(10, 'ASUS DUAL GEFORCE RTX 2070 D6 8GB', 'RTX 2070', 'ASUS', 0),\n",
        "(11, 'GIGABYTE GEFORCE GTX 1650 UD2 OC D5 4GB Nano LP', 'GTX 1650', 'GIGABYTE', 0);\n",
        "''')\n",
        "r_set = my_conn.execute('''INSERT INTO memory (item_id, model_name, capacity, manufacturing, is_delete) VALUES\n",
        "(1, 'DDR4-3200 8GB', 8, 'SAMSUNG', 0),\n",
        "(2, 'DDR4-3200 16GB', 16, 'SAMSUNG', 0),\n",
        "(3, 'DDR4-3200 32GB', 32, 'SAMSUNG', 0),\n",
        "(4, 'DDR4-3200 4GB', 4, 'SAMSUNG', 0),\n",
        "(5, 'DDR5-4800 16GB', 16, 'SAMSUNG', 0),\n",
        "(6, 'DDR4-4800 8GB', 8, 'SAMSUNG', 0),\n",
        "(7, 'DDR4-4800 32GB', 32, 'SAMSUNG', 0),\n",
        "(8, 'Crucial DDR4-3200 CL22 32GB', 32, 'MICRON', 0),\n",
        "(9, 'Crucial DDR4-3200 CL22 16GB', 16, 'MICRON', 0),\n",
        "(10, 'Crucial DDR4-3200 CL22 8GB', 8, 'MICRON', 0),\n",
        "(11, 'Crucial DDR5-4800 CL40 32GB', 32, 'MICRON', 0),\n",
        "(12, 'Crucial DDR5-4800 CL40 16GB', 16, 'MICRON', 0),\n",
        "(13, 'Crucial DDR5-4800 CL40 8GB', 8, 'MICRON', 0);\n",
        "''')\n",
        "r_set = my_conn.execute('''INSERT INTO power (item_id, model_name, wattage, manufacturing, is_delete) VALUES\n",
        "(1, 'MICRONIX Classic II FULL CHANGE 700W 80PLUS BRONZE 230V EU', 700, 'MICRONIX', 0),\n",
        "(2, 'Egpu 750 GQ 80PLUS GOLD', 750, 'Egpu',  0),\n",
        "(3, 'MICRONIX Classic II FULL CHANGE 600W 80PLUS BRONZE 230V EU', 600, 'MICRONIX', 0),\n",
        "(4, 'MICRONIX Classic II FULL CHANGE 800W 80PLUS BRONZE 230V EU', 800, 'MICRONIX', 0),\n",
        "(5, 'MICRONIX Classic II FULL CHANGE 500W 80PLUS BRONZE 230V EU', 800, 'MICRONIX',  0),\n",
        "(6, 'MICRONIX Classic II 850W 80PLUS GOLD 230V EU', 850, 'MICRONIX', 0),\n",
        "(7, 'MICRONIX Classic II 1050W 80PLUS GOLD 230V EU', 850, 'MICRONIX', 0),\n",
        "(8, 'AcBEL M88-900', 900, 'AcBEL', 0);\n",
        "''')"
      ],
      "metadata": {
        "id": "2RY17bfiz0I6"
      },
      "execution_count": null,
      "outputs": []
    },
    {
      "cell_type": "code",
      "source": [
        "#addcomponent() add data to component table(gpu, memory, power, cpu)\n",
        "#you cand \n",
        "\n",
        "def addcpu(item_id, model_name, manufacturing, clock, is_delete):\n",
        "\n",
        "  my_tuple=(item_id, model_name, manufacturing, clock, is_delete)\n",
        "  q = 'INSERT INTO cpu (item_id, model_name, manufacturing, clock, is_delete) values (?,?,?,?,?)'\n",
        "  r_set = my_conn.execute( q, my_tuple)\n",
        "\n",
        "\n",
        "def addpower(item_id, model_name, wattage, manufacturing, is_delete):\n",
        "\n",
        "  my_tuple= (item_id, model_name, wattage, manufacturing, is_delete)\n",
        "  q = 'INSERT INTO power (item_id, model_name, wattage, manufacturing, is_delete) values (?,?,?,?,?)'\n",
        "  r_set = my_conn.execute( q, my_tuple)\n",
        "\n",
        "\n",
        "def addgpu(item_id, model_name, chipset, manufacturing, is_delete):\n",
        "\n",
        "  my_tuple= (item_id, model_name, chipset, manufacturing, is_delete)\n",
        "  q = 'INSERT INTO gpu (item_id, model_name, chipset, manufacturing, is_delete) values (?,?,?,?,?)'\n",
        "  r_set = my_conn.execute( q, my_tuple)\n",
        "\n",
        "\n",
        "\n",
        "\n",
        "\n",
        "def addmemory(item_id, model_name, capacity, manufacturing, is_delete):\n",
        "\n",
        "  my_tuple= (item_id, model_name, capacity, manufacturing, is_delete)\n",
        "  q = 'INSERT INTO memory (item_id, model_name, capacity, manufacturing, is_delete) values (?,?,?,?,?)'\n",
        "  r_set = my_conn.execute( q, my_tuple)\n",
        "\n",
        "def addcomponent():\n",
        "  while 1:\n",
        "   x=int(input('select which to add \\n1. gpu 2. memory 3. cpu 4. power 5.break \\n'))\n",
        "   if x == 1:\n",
        "     item_id = int(input('item_id'))\n",
        "     model_name = input('model name\\n')\n",
        "     manufacturing = input('manufacturing\\n')\n",
        "     is_delete = int(input('is_delete\\n'))\n",
        "     chipset = input('chipset\\n')\n",
        "     addgpu(item_id, model_name, chipset, manufacturing, is_delete)\n",
        "     print('added')\n",
        "     \n",
        "   elif x == 2:\n",
        "     item_id = int(input('item_id'))\n",
        "     model_name = input('model name\\n')\n",
        "     manufacturing = input('manufacturing\\n')\n",
        "     is_delete = int(input('is_delete\\n'))\n",
        "     capacity = int(input('capacity\\n'))\n",
        "     addmemory(item_id, model_name, capacity, manufacturing, is_delete)\n",
        "     print('added')\n",
        "\n",
        "   elif x == 3:\n",
        "     item_id = int(input('item_id'))\n",
        "     model_name = input('model name\\n')\n",
        "     manufacturing = input('manufacturing\\n')\n",
        "     is_delete = int(input('is_delete\\n'))\n",
        "     clock = int(input('clock'))\n",
        "     addcpu(item_id, model_name, manufacturing, clock, is_delete)    \n",
        "     print('added')\n",
        "   elif x == 4:\n",
        "     item_id = int(input('item_id'))\n",
        "     model_name = input('model name\\n')\n",
        "     manufacturing = input('manufacturing\\n')\n",
        "     is_delete = int(input('is_delete\\n')) \n",
        "     wattage = int(input('wattage\\n'))\n",
        "     addpower(item_id, model_name, wattage, manufacturing, is_delete)\n",
        "     print('added')\n",
        "\n",
        "   elif x == 5:\n",
        "     break\n",
        "   else :\n",
        "     print('retry')\n",
        "     continue\n",
        "\n",
        "addcomponent()\n",
        "24"
      ],
      "metadata": {
        "id": "zULsmS78zpOS"
      },
      "execution_count": null,
      "outputs": []
    },
    {
      "cell_type": "code",
      "source": [
        "# findcomponent() finds component information from component tables(gpu, cpu, power, memory)\n",
        "#\n",
        "def findcomponent():\n",
        "  x= int(input('1.cpu 2.power 3. memory 4. gpu\\n'))\n",
        "  if x==1:\n",
        "    y = int(input('1.clock 2. manufacturing\\n'))\n",
        "    if y==1:\n",
        "      cl = int(input('insert wanted lowest clock\\n'))\n",
        "      q = 'select item_id, model_name, manufacturing, clock, is_delete from cpu where clock >= (?)'\n",
        "      r_set = my_conn.execute(q,cl)\n",
        "      for i in r_set:\n",
        "        print(i)\n",
        "    elif y==2:\n",
        "      q = 'select item_id, model_name, manufacturing, clock, is_delete from cpu where manufacturing = (?)'\n",
        "      ma = input('insert wanted -manufacturer')      \n",
        "      r_set = my_conn.execute(q,ma)\n",
        "      for i in r_set:\n",
        "        print(i)\n",
        "  elif x==2:\n",
        "    y = int(input('1.wattage 2. manufacturing\\n'))\n",
        "    if y==1:\n",
        "      cl = int(input('insert wanted wattage\\n'))\n",
        "      q = 'select item_id, model_name, manufacturing, wattage, is_delete from power where wattage == (?)'\n",
        "      r_set = my_conn.execute(q,cl)\n",
        "      for i in r_set:\n",
        "        print(i)\n",
        "    elif y==2:\n",
        "      q = 'select item_id, model_name, manufacturing, wattage, is_delete from power where manufacturing = (?)'\n",
        "      ma = input('insert wanted manufacturer\\n')      \n",
        "      r_set = my_conn.execute(q,ma)\n",
        "      for i in r_set:\n",
        "        print(i)\n",
        "  elif x==3:\n",
        "    y = int(input('1.capacity 2. manufacturing\\n'))\n",
        "    if y==1:\n",
        "      cl = int(input('insert wanted lowest capacity\\n'))\n",
        "      q = 'select item_id, model_name, manufacturing, capacity, is_delete from memory where capacity >= (?)'\n",
        "      r_set = my_conn.execute(q,cl)\n",
        "      for i in r_set:\n",
        "        print(i)\n",
        "    elif y==2:\n",
        "      q = 'select item_id, model_name, manufacturing, capacity, is_delete from memory where manufacturing = (?)'\n",
        "      ma = input('insert wanted manufacturer\\n')      \n",
        "      r_set = my_conn.execute(q,ma)\n",
        "      for i in r_set:\n",
        "        print(i)\n",
        "  elif x==4:\n",
        "    y = int(input('1.chipset 2. manufacturing\\n'))\n",
        "    if y==1:\n",
        "      cl = input('insert wanted chipset\\n')\n",
        "      q = 'select item_id, model_name, manufacturing, chipset, is_delete from gpu where chipset == (?)'\n",
        "      r_set = my_conn.execute(q,cl)\n",
        "      for i in r_set:\n",
        "        print(i)\n",
        "    elif y==2:\n",
        "      q = 'select item_id, model_name, manufacturing, chipset, is_delete from gpu where manufacturing = (?)'\n",
        "      ma = input('insert wanted manufacturer\\n')      \n",
        "      r_set = my_conn.execute(q,ma)\n",
        "      for i in r_set:\n",
        "        print(i)\n",
        "  else :\n",
        "    print('error')\n",
        "        \n",
        "findcomponent()"
      ],
      "metadata": {
        "id": "cUbTHLhw4b5y"
      },
      "execution_count": null,
      "outputs": []
    },
    {
      "cell_type": "code",
      "source": [
        "#activity_log 관련 메서드\n",
        "\n",
        "from sqlalchemy import create_engine\n",
        "my_conn = create_engine('sqlite:////content/db.db')\n",
        "\n",
        "r_set=my_conn.execute('''\n",
        "CREATE TABLE `activity_log` (\n",
        "\t`id`\tinteger\tNOT NULL primary key autoincrement,\n",
        "\t`user_id`\tinteger\tNOT NULL,\n",
        "\t`log_date`\ttext\tNULL,\n",
        "\t`activity`\ttext\tNULL,\n",
        "\t`result`\ttext\tNULL,\n",
        "\t`ip_address`\ttext\tNULL,\n",
        "\t`create_on`\ttext\tNULL,\n",
        "\t`create_by`\tinteger\tNULL,\n",
        "\t`change_on`\ttext\tNULL,\n",
        "\t`change_by`\tinteger\tNULL,\n",
        "  foreign key (user_id) references user (id)\n",
        ");\n",
        "''')\n",
        "\n",
        "my_conn.execute('''\n",
        "INSERT INTO 'activity_log' ('id', 'user_id', 'log_date', 'activity', 'result', 'ip_address') VALUES \n",
        "('1', '1', '2021-06-24 05:20:52', 'order', 'complete', '192.168.0.1'),\n",
        "('2', '15', '2021-06-28 05:20:52', 'order', 'complete', '192.168.0.2'),\n",
        "('3', '13', '2021-06-30 05:20:52', 'order', 'complete', '192.168.0.5'),\n",
        "('4', '4', '2021-07-01 05:20:52', 'order', 'complete', '192.168.0.8'),\n",
        "('5', '17', '2021-07-05 05:20:52.', 'order', 'complete', '192.168.0.11'),\n",
        "('6', '1', '2021-07-12 05:20:52', 'sell', 'not complete', '192.168.0.1'),\n",
        "('7', '5', '2021-07-14 05:20:52.', 'order', 'not complete', '192.168.0.4'),\n",
        "('8', '9', '2021-07-17 05:20:52.', 'sell', 'complete', '192.168.0.13'),\n",
        "('9', '2', '2021-07-25 05:20:52', 'sell', 'complete', '192.168.0.17'),\n",
        "('10', '8', '2021-07-26 05:20:52', 'sell', 'not complete', '192.168.0.7');\n",
        "''')"
      ],
      "metadata": {
        "id": "3ePLpuU1NFcD"
      },
      "execution_count": null,
      "outputs": []
    },
    {
      "cell_type": "code",
      "source": [
        "r_set=my_conn.execute(\"SELECT * from activity_log\")\n",
        "\n",
        "for row in r_set:\n",
        "  print(row)"
      ],
      "metadata": {
        "id": "fjMnesk9NVx9"
      },
      "execution_count": null,
      "outputs": []
    },
    {
      "cell_type": "code",
      "source": [
        "r_set=my_conn.execute(\"SELECT user_id, activity, result from activity_log WHERE activity = 'order'\")\n",
        "\n",
        "for row in r_set:\n",
        "  print(row)"
      ],
      "metadata": {
        "id": "YW7CYbf3NYR2"
      },
      "execution_count": null,
      "outputs": []
    },
    {
      "cell_type": "code",
      "source": [
        "r_set=my_conn.execute(\"SELECT user_id, activity, result from activity_log WHERE activity = 'sell'\")\n",
        "\n",
        "for row in r_set:\n",
        "  print(row)"
      ],
      "metadata": {
        "id": "aasnudkKNZxL"
      },
      "execution_count": null,
      "outputs": []
    },
    {
      "cell_type": "code",
      "source": [
        "r_set=my_conn.execute(\"SELECT user_id, activity, result from activity_log WHERE result = 'complete'\")\n",
        "\n",
        "for row in r_set:\n",
        "  print(row)"
      ],
      "metadata": {
        "id": "AbzOZj52Nag_"
      },
      "execution_count": null,
      "outputs": []
    },
    {
      "cell_type": "code",
      "source": [
        "r_set=my_conn.execute(\"SELECT user_id, activity, result from activity_log WHERE result = 'not complete'\")\n",
        "\n",
        "for row in r_set:\n",
        "  print(row)"
      ],
      "metadata": {
        "id": "SzUhowtFNe6l"
      },
      "execution_count": null,
      "outputs": []
    }
  ]
}